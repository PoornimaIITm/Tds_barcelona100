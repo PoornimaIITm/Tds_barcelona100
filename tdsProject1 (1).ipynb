{
  "nbformat": 4,
  "nbformat_minor": 0,
  "metadata": {
    "colab": {
      "provenance": []
    },
    "kernelspec": {
      "name": "python3",
      "display_name": "Python 3"
    },
    "language_info": {
      "name": "python"
    }
  },
  "cells": [
    {
      "cell_type": "code",
      "execution_count": null,
      "metadata": {
        "colab": {
          "base_uri": "https://localhost:8080/",
          "height": 305
        },
        "collapsed": true,
        "id": "Oy-17_54H2jN",
        "outputId": "3a2d47fa-90ee-46f2-f760-bc95cdadf508"
      },
      "outputs": [
        {
          "output_type": "error",
          "ename": "KeyError",
          "evalue": "'name'",
          "traceback": [
            "\u001b[0;31m---------------------------------------------------------------------------\u001b[0m",
            "\u001b[0;31mKeyError\u001b[0m                                  Traceback (most recent call last)",
            "\u001b[0;32m<ipython-input-60-cdd0f4fc8225>\u001b[0m in \u001b[0;36m<cell line: 100>\u001b[0;34m()\u001b[0m\n\u001b[1;32m     99\u001b[0m \u001b[0;34m\u001b[0m\u001b[0m\n\u001b[1;32m    100\u001b[0m \u001b[0;32mif\u001b[0m \u001b[0m__name__\u001b[0m \u001b[0;34m==\u001b[0m \u001b[0;34m'__main__'\u001b[0m\u001b[0;34m:\u001b[0m\u001b[0;34m\u001b[0m\u001b[0;34m\u001b[0m\u001b[0m\n\u001b[0;32m--> 101\u001b[0;31m     \u001b[0mmain\u001b[0m\u001b[0;34m(\u001b[0m\u001b[0;34m)\u001b[0m\u001b[0;34m\u001b[0m\u001b[0;34m\u001b[0m\u001b[0m\n\u001b[0m",
            "\u001b[0;32m<ipython-input-60-cdd0f4fc8225>\u001b[0m in \u001b[0;36mmain\u001b[0;34m()\u001b[0m\n\u001b[1;32m     61\u001b[0m         users_data.append({\n\u001b[1;32m     62\u001b[0m             \u001b[0;34m'login'\u001b[0m\u001b[0;34m:\u001b[0m \u001b[0musername\u001b[0m\u001b[0;34m,\u001b[0m\u001b[0;34m\u001b[0m\u001b[0;34m\u001b[0m\u001b[0m\n\u001b[0;32m---> 63\u001b[0;31m             \u001b[0;34m'name'\u001b[0m\u001b[0;34m:\u001b[0m \u001b[0muser\u001b[0m\u001b[0;34m[\u001b[0m\u001b[0;34m'name'\u001b[0m\u001b[0;34m]\u001b[0m\u001b[0;34m,\u001b[0m\u001b[0;34m\u001b[0m\u001b[0;34m\u001b[0m\u001b[0m\n\u001b[0m\u001b[1;32m     64\u001b[0m             \u001b[0;34m'company'\u001b[0m\u001b[0;34m:\u001b[0m \u001b[0muser\u001b[0m\u001b[0;34m(\u001b[0m\u001b[0muser\u001b[0m\u001b[0;34m[\u001b[0m\u001b[0;34m'company'\u001b[0m\u001b[0;34m]\u001b[0m\u001b[0;34m)\u001b[0m\u001b[0;34m,\u001b[0m\u001b[0;34m\u001b[0m\u001b[0;34m\u001b[0m\u001b[0m\n\u001b[1;32m     65\u001b[0m             \u001b[0;34m'location'\u001b[0m\u001b[0;34m:\u001b[0m \u001b[0muser\u001b[0m\u001b[0;34m[\u001b[0m\u001b[0;34m'location'\u001b[0m\u001b[0;34m]\u001b[0m\u001b[0;34m,\u001b[0m\u001b[0;34m\u001b[0m\u001b[0;34m\u001b[0m\u001b[0m\n",
            "\u001b[0;31mKeyError\u001b[0m: 'name'"
          ]
        }
      ],
      "source": [
        "import requests\n",
        "import json\n",
        "import time\n",
        "\n",
        "# GitHub API token (replace with your own token)\n",
        "GITHUB_TOKEN = 'my pwd'\n",
        "HEADERS = {'Authorization': f'token {GITHUB_TOKEN}'}\n",
        "\n",
        "# Base URL for the GitHub API\n",
        "GITHUB_API_URL = 'https://api.github.com'\n",
        "\n",
        "\n",
        "def search_users(city, followers_min, per_page=30, page=1):\n",
        "    \"\"\"Search GitHub users based on location and number of followers.\"\"\"\n",
        "    query = f\"location:{city} followers:>{followers_min}\"\n",
        "    url = f'{GITHUB_API_URL}/search/users?q={query}&per_page={per_page}&page={page}'\n",
        "    response = requests.get(url, headers=HEADERS)\n",
        "\n",
        "    if response.status_code == 200:\n",
        "        return response.json()['items']\n",
        "    else:\n",
        "        print(f\"Error: {response.status_code}, {response.text}\")\n",
        "        return []\n",
        "\n",
        "\n",
        "def get_user_repos(username):\n",
        "    \"\"\"Get all repositories of a GitHub user.\"\"\"\n",
        "    repos = []\n",
        "    url = f'{GITHUB_API_URL}/users/{username}/repos'\n",
        "    response = requests.get(url, headers=HEADERS)\n",
        "\n",
        "    if response.status_code == 200:\n",
        "        repos = response.json()\n",
        "    else:\n",
        "        print(f\"Error: {response.status_code}, {response.text}\")\n",
        "\n",
        "    return repos\n",
        "\n",
        "\n",
        "def main():\n",
        "    city = \"Barcelona\"\n",
        "    followers_min = 100\n",
        "    per_page = 30  # You can set a maximum of 100 per page\n",
        "    current_page = 1\n",
        "    all_users = []\n",
        "\n",
        "    while True:\n",
        "        users = search_users(city, followers_min, per_page, current_page)\n",
        "        if not users:\n",
        "            break\n",
        "        all_users.extend(users)\n",
        "        current_page += 1\n",
        "        time.sleep(1)  # To avoid rate-limiting\n",
        "\n",
        "    users_data = []\n",
        "    repos_data = []\n",
        "    # Get repos for each user\n",
        "    for user in all_users:\n",
        "        username = user['login']\n",
        "        repo = get_user_repos(username)\n",
        "        users_data.append({\n",
        "            'login': username,\n",
        "            'name': user['name'],\n",
        "            'company': user(user['company']),\n",
        "            'location': user['location'],\n",
        "            'email': user['email'],\n",
        "            'hireable': user['hireable'],\n",
        "            'bio': user['bio'],\n",
        "            'public_repos': user['public_repos'],\n",
        "            'followers': user['followers'],\n",
        "            'following': user['following'],\n",
        "            'created_at': user['created_at'],\n",
        "        })\n",
        "\n",
        "        repos_data.append({\n",
        "            'login': username,\n",
        "            'full_name': repo['full_name'],\n",
        "            'created_at': repo['created_at'],\n",
        "            'stargazers_count': repo['stargazers_count'],\n",
        "            'watchers_count': repo['watchers_count'],\n",
        "            'language': repo['language'],\n",
        "            'has_projects': repo['has_projects'],\n",
        "            'has_wiki': repo['has_wiki'],\n",
        "            'license_name': repo['license']['key'] if repo['license'] else None,\n",
        "        })\n",
        "        time.sleep(1)  # To avoid rate-limiting\n",
        "\n",
        "    # Save the data to a JSON file\n",
        "    with open('barcelona_users.json', 'w') as f:\n",
        "        json.dump(users_data, f, indent=4)\n",
        "\n",
        "    with open('barcelona_repos.json', 'w') as f:\n",
        "        json.dump(repos_data, f, indent=4)\n",
        "\n",
        "    print(f\"Data for {len(users_data)} users saved to 'barcelona_users.json'.\")\n",
        "\n",
        "    print(f\"Data for {len(repos_data)} repos saved to 'barcelona_repos.json'.\")\n",
        "\n",
        "\n",
        "if __name__ == '__main__':\n",
        "    main()\n"
      ]
    },
    {
      "cell_type": "code",
      "source": [
        "import pandas as pd\n",
        "import numpy as np\n",
        "import matplotlib.pyplot as plt"
      ],
      "metadata": {
        "id": "-Q_hVUc2V3o3"
      },
      "execution_count": null,
      "outputs": []
    },
    {
      "cell_type": "markdown",
      "source": [
        "Who are the top 5 users in Barcelona with the highest number of followers? List their login in order, comma-separated."
      ],
      "metadata": {
        "id": "jUZRJoBJWEEa"
      }
    },
    {
      "cell_type": "code",
      "source": [
        "# Load the users.csv file\n",
        "users_df = pd.read_csv('users_git.csv')\n",
        "\n",
        "#users_df.head()\n",
        "\n",
        "# Sort by the followers column in descending order\n",
        "#top_users = users_df.sort_values(by='followers', ascending=False).head(5)\n",
        "\n",
        "# Get the logins of the top 5 users\n",
        "#top_logins = top_users['login'].tolist()\n",
        "\n",
        "# Print the logins as a comma-separated string\n",
        "#print(', '.join(top_logins))\n",
        "\n",
        "# Filter users from Barcelona and sort them by followers in descending order\n",
        "barcelona_users_df = users_df[users_df['location'].str.contains(\"Barcelona\", case=False, na=False)]\n",
        "top_5_users = barcelona_users_df.sort_values(by='followers', ascending=False).head(5)\n",
        "\n",
        "# Extract the 'login' column and list the logins in a comma-separated string\n",
        "top_5_logins = ', '.join(top_5_users['login'].tolist())\n",
        "top_5_logins\n"
      ],
      "metadata": {
        "colab": {
          "base_uri": "https://localhost:8080/",
          "height": 35
        },
        "id": "PjZvB_b1WG6o",
        "outputId": "cd287bcf-8e40-4d1f-c083-1b579b40258e"
      },
      "execution_count": null,
      "outputs": [
        {
          "output_type": "execute_result",
          "data": {
            "text/plain": [
              "'midudev, ai, raysan5, vfarcic, spite'"
            ],
            "application/vnd.google.colaboratory.intrinsic+json": {
              "type": "string"
            }
          },
          "metadata": {},
          "execution_count": 2
        }
      ]
    },
    {
      "cell_type": "markdown",
      "source": [
        "Who are the 5 earliest registered GitHub users in Barcelona? List their login in ascending order of created_at, comma-separated."
      ],
      "metadata": {
        "id": "qN5kBhrsWsMX"
      }
    },
    {
      "cell_type": "code",
      "source": [
        "# Convert the 'created_at' column to datetime\n",
        "users_df['created_at'] = pd.to_datetime(users_df['created_at'])\n",
        "\n",
        "# Sort by the created_at column in ascending order\n",
        "earliest_users = users_df.sort_values(by='created_at', ascending=True).head(5)\n",
        "\n",
        "# Get the logins of the top 5 earliest registered users\n",
        "earliest_logins = earliest_users['login'].tolist()\n",
        "\n",
        "# Print the logins as a comma-separated string\n",
        "print(', '.join(earliest_logins))"
      ],
      "metadata": {
        "colab": {
          "base_uri": "https://localhost:8080/"
        },
        "id": "bI997io5WtTO",
        "outputId": "136efc2a-7dae-4442-a783-1742c68e826c"
      },
      "execution_count": null,
      "outputs": [
        {
          "output_type": "stream",
          "name": "stdout",
          "text": [
            "oleganza, gravityblast, fesplugas, fxn, pauek\n"
          ]
        }
      ]
    },
    {
      "cell_type": "markdown",
      "source": [
        "What are the 3 most popular license among these users? Ignore missing licenses. List the license_name in order, comma-separated."
      ],
      "metadata": {
        "id": "29kYfks6XFnt"
      }
    },
    {
      "cell_type": "code",
      "source": [
        "# Load the repositories.csv file\n",
        "repositories_df = pd.read_csv('repositories_git.csv')\n",
        "\n",
        "# Drop rows with missing license_name and count the frequency of each license_name\n",
        "licenses_count = repositories_df.dropna(subset=['license_name'])['license_name'].value_counts()\n",
        "\n",
        "# Get the top 3 most popular licenses\n",
        "top_3_licenses = licenses_count.head(3).index.tolist()\n",
        "\n",
        "# Display the result as a comma-separated string\n",
        "\", \".join(top_3_licenses)"
      ],
      "metadata": {
        "colab": {
          "base_uri": "https://localhost:8080/",
          "height": 35
        },
        "id": "5BbbciSsXNch",
        "outputId": "420f4f32-855b-43c6-d792-b20351387f86"
      },
      "execution_count": null,
      "outputs": [
        {
          "output_type": "execute_result",
          "data": {
            "text/plain": [
              "'mit, apache-2.0, other'"
            ],
            "application/vnd.google.colaboratory.intrinsic+json": {
              "type": "string"
            }
          },
          "metadata": {},
          "execution_count": 5
        }
      ]
    },
    {
      "cell_type": "markdown",
      "source": [
        "Which company do the majority of these developers work at?"
      ],
      "metadata": {
        "id": "afiXuGHJc5VV"
      }
    },
    {
      "cell_type": "code",
      "source": [
        "# Drop rows with missing company information and count the frequency of each company\n",
        "company_count = users_df.dropna(subset=['company'])['company'].value_counts()\n",
        "\n",
        "# Get the company where the majority of developers work\n",
        "majority_company = company_count.idxmax()\n",
        "\n",
        "majority_company\n"
      ],
      "metadata": {
        "colab": {
          "base_uri": "https://localhost:8080/",
          "height": 35
        },
        "id": "cq8FQEMlc45v",
        "outputId": "279e805a-c456-49e1-c16b-793b1303d00f"
      },
      "execution_count": null,
      "outputs": [
        {
          "output_type": "execute_result",
          "data": {
            "text/plain": [
              "'FREELANCE'"
            ],
            "application/vnd.google.colaboratory.intrinsic+json": {
              "type": "string"
            }
          },
          "metadata": {},
          "execution_count": 7
        }
      ]
    },
    {
      "cell_type": "markdown",
      "source": [
        "Which programming language is most popular among these users?"
      ],
      "metadata": {
        "id": "9sOz_S1cdPLw"
      }
    },
    {
      "cell_type": "code",
      "source": [
        "# Count the frequency of each programming language in the repositories dataframe\n",
        "language_count = repositories_df.dropna(subset=['language'])['language'].value_counts()\n",
        "\n",
        "# Get the most popular programming language\n",
        "most_popular_language = language_count.idxmax()\n",
        "\n",
        "most_popular_language\n"
      ],
      "metadata": {
        "colab": {
          "base_uri": "https://localhost:8080/",
          "height": 35
        },
        "id": "zuGpULVDdP7a",
        "outputId": "cdc75de0-4e32-4f26-ec9d-199c8f84c894"
      },
      "execution_count": null,
      "outputs": [
        {
          "output_type": "execute_result",
          "data": {
            "text/plain": [
              "'JavaScript'"
            ],
            "application/vnd.google.colaboratory.intrinsic+json": {
              "type": "string"
            }
          },
          "metadata": {},
          "execution_count": 8
        }
      ]
    },
    {
      "cell_type": "markdown",
      "source": [
        "Which programming language is the second most popular among users who joined after 2020?"
      ],
      "metadata": {
        "id": "QtQiwv5rdZ1R"
      }
    },
    {
      "cell_type": "code",
      "source": [
        "# Filter repositories for users who joined after 2020\n",
        "users_after_2020 = users_df[users_df['created_at'] > '2020-01-01']['login']\n",
        "\n",
        "# Filter the repositories for these users and count the programming languages\n",
        "repositories_after_2020 = repositories_df[repositories_df['login'].isin(users_after_2020)]\n",
        "language_count_after_2020 = repositories_after_2020.dropna(subset=['language'])['language'].value_counts()\n",
        "\n",
        "# Get the second most popular programming language\n",
        "second_most_popular_language = language_count_after_2020.index[1]\n",
        "\n",
        "second_most_popular_language\n"
      ],
      "metadata": {
        "colab": {
          "base_uri": "https://localhost:8080/",
          "height": 35
        },
        "id": "IK3GGbwsda_R",
        "outputId": "85c40212-b3d4-4264-d6a4-78aa44bd6bc1"
      },
      "execution_count": null,
      "outputs": [
        {
          "output_type": "execute_result",
          "data": {
            "text/plain": [
              "'Python'"
            ],
            "application/vnd.google.colaboratory.intrinsic+json": {
              "type": "string"
            }
          },
          "metadata": {},
          "execution_count": 9
        }
      ]
    },
    {
      "cell_type": "markdown",
      "source": [
        "Which language has the highest average number of stars per repository?"
      ],
      "metadata": {
        "id": "ZLylAgAWdlDf"
      }
    },
    {
      "cell_type": "code",
      "source": [
        "# Group repositories by language and calculate the average number of stars per repository\n",
        "avg_stars_per_language = repositories_df.dropna(subset=['language']).groupby('language')['stargazers_count'].mean()\n",
        "\n",
        "# Get the language with the highest average number of stars\n",
        "language_highest_avg_stars = avg_stars_per_language.idxmax()\n",
        "\n",
        "language_highest_avg_stars\n"
      ],
      "metadata": {
        "colab": {
          "base_uri": "https://localhost:8080/",
          "height": 35
        },
        "id": "1NHOk-pJdl2C",
        "outputId": "fd132f9f-ccdf-478d-9f5c-1e8a06c4f4ff"
      },
      "execution_count": null,
      "outputs": [
        {
          "output_type": "execute_result",
          "data": {
            "text/plain": [
              "'Vim Script'"
            ],
            "application/vnd.google.colaboratory.intrinsic+json": {
              "type": "string"
            }
          },
          "metadata": {},
          "execution_count": 10
        }
      ]
    },
    {
      "cell_type": "markdown",
      "source": [
        "Let's define leader_strength as followers / (1 + following). Who are the top 5 in terms of leader_strength? List their login in order, comma-separated.\n"
      ],
      "metadata": {
        "id": "Tmg7ANWFdu9X"
      }
    },
    {
      "cell_type": "code",
      "source": [
        "# Avoid division by zero by using (1 + following)\n",
        "users_df['leader_strength'] = users_df['followers'] / (1 + users_df['following'])\n",
        "# Sort by leader_strength in descending order\n",
        "top_users = users_df.sort_values(by='leader_strength', ascending=False)\n",
        "# Get the top 5 user logins\n",
        "top_5_logins = top_users['login'].head(5).tolist()\n",
        "top_5_logins_str = ', '.join(top_5_logins)\n",
        "print(f\"Top 5 Users by Leader Strength: {top_5_logins_str}\")\n"
      ],
      "metadata": {
        "colab": {
          "base_uri": "https://localhost:8080/"
        },
        "id": "wc7t635tdx_8",
        "outputId": "e9f0fd82-e9f2-4757-bb9e-ee869ac32873"
      },
      "execution_count": null,
      "outputs": [
        {
          "output_type": "stream",
          "name": "stdout",
          "text": [
            "Top 5 Users by Leader Strength: midudev, vfarcic, spite, amix, cfenollosa\n"
          ]
        }
      ]
    },
    {
      "cell_type": "markdown",
      "source": [
        "What is the correlation between the number of followers and the number of public repositories among users in Barcelona?\n",
        "Correlation between followers and repos (to 3 decimal places, e.g. 0.123 or -0.123)"
      ],
      "metadata": {
        "id": "6ZKLOHPFd7JT"
      }
    },
    {
      "cell_type": "code",
      "source": [
        "# Filter users located in Barcelona\n",
        "barcelona_users = users_df[users_df['location'].str.contains('Barcelona', case=False, na=False)]\n",
        "\n",
        "# Calculate the correlation between the number of followers and the number of public repositories\n",
        "correlation_followers_repos = barcelona_users['followers'].corr(barcelona_users['public_repos'])\n",
        "\n",
        "# Display the correlation rounded to 3 decimal places\n",
        "round(correlation_followers_repos, 3)\n"
      ],
      "metadata": {
        "colab": {
          "base_uri": "https://localhost:8080/"
        },
        "id": "MXktx7Pzd8Le",
        "outputId": "2a71de11-c856-468f-bae1-644a5f3a5071"
      },
      "execution_count": null,
      "outputs": [
        {
          "output_type": "execute_result",
          "data": {
            "text/plain": [
              "0.071"
            ]
          },
          "metadata": {},
          "execution_count": 12
        }
      ]
    },
    {
      "cell_type": "markdown",
      "source": [
        "Does creating more repos help users get more followers? Using regression, estimate how many additional followers a user gets per additional public repository.\n",
        "Regression slope of followers on repos (to 3 decimal places, e.g. 0.123 or -0.123)"
      ],
      "metadata": {
        "id": "0d-txTECeFkg"
      }
    },
    {
      "cell_type": "code",
      "source": [
        "import statsmodels.api as sm\n",
        "repos_followers = users_df[['public_repos', 'followers']].dropna()\n",
        "# Add a constant to the model (for the intercept)\n",
        "X = sm.add_constant(repos_followers['public_repos'])\n",
        "Y = repos_followers['followers']\n",
        "\n",
        "# Fit the model\n",
        "model = sm.OLS(Y, X).fit()\n",
        "\n",
        "# Print the regression results\n",
        "print(model.summary())\n"
      ],
      "metadata": {
        "colab": {
          "base_uri": "https://localhost:8080/"
        },
        "id": "PvLT2-e2eGkU",
        "outputId": "b3af601e-3edb-4078-f51b-09d9578786d4"
      },
      "execution_count": null,
      "outputs": [
        {
          "output_type": "stream",
          "name": "stdout",
          "text": [
            "                            OLS Regression Results                            \n",
            "==============================================================================\n",
            "Dep. Variable:              followers   R-squared:                       0.005\n",
            "Model:                            OLS   Adj. R-squared:                  0.002\n",
            "Method:                 Least Squares   F-statistic:                     1.706\n",
            "Date:                Wed, 30 Oct 2024   Prob (F-statistic):              0.192\n",
            "Time:                        08:30:01   Log-Likelihood:                -2962.9\n",
            "No. Observations:                 336   AIC:                             5930.\n",
            "Df Residuals:                     334   BIC:                             5938.\n",
            "Df Model:                           1                                         \n",
            "Covariance Type:            nonrobust                                         \n",
            "================================================================================\n",
            "                   coef    std err          t      P>|t|      [0.025      0.975]\n",
            "--------------------------------------------------------------------------------\n",
            "const          341.0215    111.390      3.062      0.002     121.908     560.135\n",
            "public_repos     1.0284      0.787      1.306      0.192      -0.520       2.577\n",
            "==============================================================================\n",
            "Omnibus:                      714.181   Durbin-Watson:                   0.442\n",
            "Prob(Omnibus):                  0.000   Jarque-Bera (JB):           827541.656\n",
            "Skew:                          14.818   Prob(JB):                         0.00\n",
            "Kurtosis:                     244.313   Cond. No.                         176.\n",
            "==============================================================================\n",
            "\n",
            "Notes:\n",
            "[1] Standard Errors assume that the covariance matrix of the errors is correctly specified.\n"
          ]
        }
      ]
    },
    {
      "cell_type": "markdown",
      "source": [
        "Do people typically enable projects and wikis together? What is the correlation between a repo having projects enabled and having wiki enabled?\n",
        "Correlation between projects and wiki enabled (to 3 decimal places, e.g. 0.123 or -0.123)"
      ],
      "metadata": {
        "id": "quYp58ileO-W"
      }
    },
    {
      "cell_type": "code",
      "source": [
        "correlation = repositories_df['has_projects'].corr(repositories_df['has_wiki'])\n",
        "correlation"
      ],
      "metadata": {
        "colab": {
          "base_uri": "https://localhost:8080/"
        },
        "id": "QDSpidJsxUGf",
        "outputId": "fb457b4e-caaf-4d65-8c8e-00b84702ae23"
      },
      "execution_count": null,
      "outputs": [
        {
          "output_type": "execute_result",
          "data": {
            "text/plain": [
              "0.3323124084332627"
            ]
          },
          "metadata": {},
          "execution_count": 14
        }
      ]
    },
    {
      "cell_type": "markdown",
      "source": [
        "Do hireable users follow more people than those who are not hireable?\n",
        "Average of following per user for hireable=true minus the average following for the rest (to 3 decimal places, e.g. 12.345 or -12.345)"
      ],
      "metadata": {
        "id": "iY9JcMd2eQol"
      }
    },
    {
      "cell_type": "code",
      "source": [
        "# Convert 'hireable' column to boolean, where NaN is considered False\n",
        "users_df['hireable'] = users_df['hireable'].fillna(False).astype(bool)\n",
        "\n",
        "# Calculate the average following for hireable and non-hireable users\n",
        "average_following_hireable = users_df[users_df['hireable']]['following'].mean()\n",
        "average_following_non_hireable = users_df[~users_df['hireable']]['following'].mean()\n",
        "\n",
        "# Difference between the two averages, rounded to three decimal places\n",
        "difference = round(average_following_hireable - average_following_non_hireable, 3)\n",
        "average_following_hireable, average_following_non_hireable, difference\n"
      ],
      "metadata": {
        "colab": {
          "base_uri": "https://localhost:8080/"
        },
        "id": "6R59z4KUewG6",
        "outputId": "8359d9db-8f7a-4ba3-8f07-8ca6ada1bd52"
      },
      "execution_count": null,
      "outputs": [
        {
          "output_type": "stream",
          "name": "stderr",
          "text": [
            "<ipython-input-16-59335e03e07f>:2: FutureWarning: Downcasting object dtype arrays on .fillna, .ffill, .bfill is deprecated and will change in a future version. Call result.infer_objects(copy=False) instead. To opt-in to the future behavior, set `pd.set_option('future.no_silent_downcasting', True)`\n",
            "  users_df['hireable'] = users_df['hireable'].fillna(False).astype(bool)\n"
          ]
        },
        {
          "output_type": "execute_result",
          "data": {
            "text/plain": [
              "(394.56302521008405, 96.34562211981567, 298.217)"
            ]
          },
          "metadata": {},
          "execution_count": 16
        }
      ]
    },
    {
      "cell_type": "markdown",
      "source": [
        "Some developers write long bios. Does that help them get more followers? What's the correlation of the length of their bio (in Unicode characters) with followers? (Ignore people without bios)\n",
        "Regression slope of followers on bio word count (to 3 decimal places, e.g. 12.345 or -12.345)"
      ],
      "metadata": {
        "id": "ieAcIeW9gb65"
      }
    },
    {
      "cell_type": "code",
      "source": [
        "from sklearn.linear_model import LinearRegression\n",
        "users_with_bio = users_df[(users_df['bio'].notna()) & (users_df['bio'] != '')].copy()\n",
        "users_with_bio.loc[:, 'bio_len'] = users_with_bio['bio'].str.len()\n",
        "\n",
        "X = users_with_bio['bio_len'].values.reshape(-1,1)\n",
        "y = users_with_bio['followers']\n",
        "\n",
        "lr2 = LinearRegression()\n",
        "lr2.fit(X, y)\n",
        "lr2.coef_[0]"
      ],
      "metadata": {
        "colab": {
          "base_uri": "https://localhost:8080/"
        },
        "id": "UY8wxIOrx2iX",
        "outputId": "f8f60a11-9c78-4621-bea6-4675983293c9"
      },
      "execution_count": null,
      "outputs": [
        {
          "output_type": "execute_result",
          "data": {
            "text/plain": [
              "1.6185526415090765"
            ]
          },
          "metadata": {},
          "execution_count": 21
        }
      ]
    },
    {
      "cell_type": "code",
      "source": [
        "# Filter users with non-empty bios\n",
        "users_with_bio = users_df[users_df['bio'].notna()]\n",
        "\n",
        "# Calculate the length of each bio in Unicode characters\n",
        "users_with_bio['bio_length'] = users_with_bio['bio'].apply(len)\n",
        "import statsmodels.api as sm\n",
        "\n",
        "# Prepare the regression variables\n",
        "X = sm.add_constant(users_with_bio['bio_length'])\n",
        "Y = users_with_bio['followers']\n",
        "\n",
        "# Fit the regression model\n",
        "model = sm.OLS(Y, X).fit()\n",
        "\n",
        "# Print the regression results\n",
        "print(model.summary())"
      ],
      "metadata": {
        "colab": {
          "base_uri": "https://localhost:8080/"
        },
        "id": "BVIZMpa2gckk",
        "outputId": "6e0a2cd6-984b-4371-d633-0df712850d7b"
      },
      "execution_count": null,
      "outputs": [
        {
          "output_type": "stream",
          "name": "stdout",
          "text": [
            "                            OLS Regression Results                            \n",
            "==============================================================================\n",
            "Dep. Variable:              followers   R-squared:                       0.001\n",
            "Model:                            OLS   Adj. R-squared:                 -0.003\n",
            "Method:                 Least Squares   F-statistic:                    0.3221\n",
            "Date:                Wed, 30 Oct 2024   Prob (F-statistic):              0.571\n",
            "Time:                        08:30:46   Log-Likelihood:                -2181.3\n",
            "No. Observations:                 243   AIC:                             4367.\n",
            "Df Residuals:                     241   BIC:                             4374.\n",
            "Df Model:                           1                                         \n",
            "Covariance Type:            nonrobust                                         \n",
            "==============================================================================\n",
            "                 coef    std err          t      P>|t|      [0.025      0.975]\n",
            "------------------------------------------------------------------------------\n",
            "const        391.8983    230.027      1.704      0.090     -61.222     845.019\n",
            "bio_length     1.6186      2.852      0.568      0.571      -3.999       7.236\n",
            "==============================================================================\n",
            "Omnibus:                      499.610   Durbin-Watson:                   0.445\n",
            "Prob(Omnibus):                  0.000   Jarque-Bera (JB):           323042.165\n",
            "Skew:                          12.756   Prob(JB):                         0.00\n",
            "Kurtosis:                     179.789   Cond. No.                         150.\n",
            "==============================================================================\n",
            "\n",
            "Notes:\n",
            "[1] Standard Errors assume that the covariance matrix of the errors is correctly specified.\n"
          ]
        },
        {
          "output_type": "stream",
          "name": "stderr",
          "text": [
            "<ipython-input-18-26995216c2ed>:5: SettingWithCopyWarning: \n",
            "A value is trying to be set on a copy of a slice from a DataFrame.\n",
            "Try using .loc[row_indexer,col_indexer] = value instead\n",
            "\n",
            "See the caveats in the documentation: https://pandas.pydata.org/pandas-docs/stable/user_guide/indexing.html#returning-a-view-versus-a-copy\n",
            "  users_with_bio['bio_length'] = users_with_bio['bio'].apply(len)\n"
          ]
        }
      ]
    },
    {
      "cell_type": "markdown",
      "source": [
        "Who created the most repositories on weekends (UTC)? List the top 5 users' login in order, comma-separated"
      ],
      "metadata": {
        "id": "up0U-TlmhHPI"
      }
    },
    {
      "cell_type": "code",
      "source": [
        "import csv\n",
        "from collections import Counter\n",
        "from datetime import datetime\n",
        "\n",
        "weekend_repo_counts = Counter()\n",
        "\n",
        "with open('repositories_git.csv', 'r', encoding='utf-8') as file:\n",
        "    reader = csv.DictReader(file)\n",
        "\n",
        "    for row in reader:\n",
        "        created_at = row.get('created_at', '')\n",
        "        if created_at:\n",
        "            created_date = datetime.fromisoformat(created_at[:-1])\n",
        "\n",
        "            if created_date.weekday() in [5, 6]:\n",
        "                user_login = row['login']\n",
        "                weekend_repo_counts[user_login] += 1\n",
        "\n",
        "top_users = weekend_repo_counts.most_common(5)\n",
        "\n",
        "top_logins = [user[0] for user in top_users]\n",
        "\n",
        "print(','.join(top_logins))"
      ],
      "metadata": {
        "colab": {
          "base_uri": "https://localhost:8080/"
        },
        "id": "r8KjLWy2yQGU",
        "outputId": "143c61bd-055f-4a56-dc81-b92000f7dac0"
      },
      "execution_count": null,
      "outputs": [
        {
          "output_type": "stream",
          "name": "stdout",
          "text": [
            "Hamadabcn,vieron,julianxhokaxhiu,domini-code,ctford\n"
          ]
        }
      ]
    },
    {
      "cell_type": "markdown",
      "source": [
        "Do people who are hireable share their email addresses more often?\n"
      ],
      "metadata": {
        "id": "p18MSw_3hoh0"
      }
    },
    {
      "cell_type": "code",
      "source": [
        "# Convert 'hireable' to a boolean\n",
        "users_df['hireable'] = users_df['hireable'].fillna(False).astype(bool)\n",
        "\n",
        "# Determine if a user has an email\n",
        "users_df['has_email'] = users_df['email'].notna() & (users_df['email'] != '')\n",
        "\n",
        "# Calculate the fraction of users with email for hireable and non-hireable users\n",
        "hireable_with_email = users_df[users_df['hireable']]['has_email'].mean()\n",
        "non_hireable_with_email = users_df[~users_df['hireable']]['has_email'].mean()\n",
        "\n",
        "# Calculate the difference\n",
        "difference = round(hireable_with_email - non_hireable_with_email, 3)\n",
        "\n",
        "print(f\"Difference: {difference}\")\n"
      ],
      "metadata": {
        "colab": {
          "base_uri": "https://localhost:8080/"
        },
        "id": "1DJssLf2hpYe",
        "outputId": "55a6c518-42cf-4f9c-ac7b-888f166e3033"
      },
      "execution_count": null,
      "outputs": [
        {
          "output_type": "stream",
          "name": "stdout",
          "text": [
            "Difference: 0.089\n"
          ]
        }
      ]
    },
    {
      "cell_type": "markdown",
      "source": [
        "Let's assume that the last word in a user's name is their surname (ignore missing names, trim and split by whitespace.) What's the most common surname? (If there's a tie, list them all, comma-separated, alphabetically)\n",
        "Number of users with the most common surname"
      ],
      "metadata": {
        "id": "mB98aI38iTgA"
      }
    },
    {
      "cell_type": "code",
      "source": [
        "# We will extract the 'name' column from the users_df, split the names by whitespace, and select the last word as the surname.\n",
        "# First, we filter out rows where the 'name' is missing (NaN), then proceed with the surname extraction.\n",
        "\n",
        "# Drop rows where 'name' is NaN\n",
        "users_with_names = users_df.dropna(subset=['name'])\n",
        "\n",
        "# Extract the last word (assumed surname) from the 'name' column\n",
        "users_with_names['surname'] = users_with_names['name'].str.split().str[-1]\n",
        "\n",
        "# Count the occurrences of each surname\n",
        "surname_counts = users_with_names['surname'].value_counts()\n",
        "\n",
        "# Find the most common surname(s) and the corresponding count\n",
        "max_count = surname_counts.max()\n",
        "most_common_surnames = surname_counts[surname_counts == max_count].index.tolist()\n",
        "\n",
        "# Join the surnames alphabetically and get the count\n",
        "most_common_surnames_sorted = ', '.join(sorted(most_common_surnames))\n",
        "\n",
        "most_common_surnames_sorted, max_count\n",
        "\n"
      ],
      "metadata": {
        "colab": {
          "base_uri": "https://localhost:8080/"
        },
        "id": "W2DWxRaZiUf2",
        "outputId": "c513d1cc-4cef-4517-b2e5-a738770d3206"
      },
      "execution_count": null,
      "outputs": [
        {
          "output_type": "stream",
          "name": "stderr",
          "text": [
            "<ipython-input-47-6deb7931272e>:8: SettingWithCopyWarning: \n",
            "A value is trying to be set on a copy of a slice from a DataFrame.\n",
            "Try using .loc[row_indexer,col_indexer] = value instead\n",
            "\n",
            "See the caveats in the documentation: https://pandas.pydata.org/pandas-docs/stable/user_guide/indexing.html#returning-a-view-versus-a-copy\n",
            "  users_with_names['surname'] = users_with_names['name'].str.split().str[-1]\n"
          ]
        },
        {
          "output_type": "execute_result",
          "data": {
            "text/plain": [
              "('Martínez, Ortiz', 3)"
            ]
          },
          "metadata": {},
          "execution_count": 47
        }
      ]
    }
  ]
}